{
 "cells": [
  {
   "cell_type": "markdown",
   "id": "98f9bc15",
   "metadata": {},
   "source": [
    "# 4-bis. Web Scraping - Scrapy\n",
    "## Projet de collecte de données via Google Image\n",
    "\n",
    "\n",
    "<img src = 'https://xn--kvin-duranty-beb.fr/wp-content/uploads/2022/10/Web-Scraping-_-IPSSI-PRS-2.png' >\n",
    "\n",
    "\n",
    "Dans cet exercice, nous utiliserons la bibliothèque Selenium afin de se constituer un jeu de données d'images provenant de Google images.\n",
    "\n",
    "\n",
    "**Travail en binôme**\n",
    "\n",
    "1. **Initiez un projet sur github**\n",
    "\n",
    "2. **Créez un programme nommé \"app.py\" capable de lancer une rechercche sur [Google images](https://www.google.com/imghp?hl=EN) puis collecter les 2 premières images qui s'y trouvent.**\n",
    "\n",
    "3. **Stockez les images dans un répertoir ayant pour nom les mots clées de la recherche (ex : cat, dog, fish).**\n",
    "\n",
    "4. **Les images devront toutes posséder les mêmes dimensions et être nomées en fonction des mots clé de la recherche.**\n",
    "\n",
    "5. **Le programme pourra s'exécuter dans le terminal en lui passant en argument les termes de la recherche.**\n",
    "\n",
    "6. **Le code sera contenu dans des fonctions ou des class pour le traitement des images.**\n",
    "\n",
    "<img src='https://upload.wikimedia.org/wikipedia/commons/thumb/7/77/Google_Images_2015_logo.svg/1280px-Google_Images_2015_logo.svg.png'>"
   ]
  },
  {
   "cell_type": "code",
   "execution_count": 1,
   "id": "ab86ca66",
   "metadata": {},
   "outputs": [],
   "source": [
    "import os"
   ]
  },
  {
   "cell_type": "code",
   "execution_count": 4,
   "id": "6ddf47e4",
   "metadata": {},
   "outputs": [
    {
     "data": {
      "text/plain": [
       "0"
      ]
     },
     "execution_count": 4,
     "metadata": {},
     "output_type": "execute_result"
    }
   ],
   "source": [
    "os.system('cd')"
   ]
  },
  {
   "cell_type": "code",
   "execution_count": null,
   "id": "8d9b0d83",
   "metadata": {},
   "outputs": [],
   "source": []
  },
  {
   "cell_type": "code",
   "execution_count": null,
   "id": "c08ef1cf",
   "metadata": {},
   "outputs": [],
   "source": []
  }
 ],
 "metadata": {
  "kernelspec": {
   "display_name": "Python 3 (ipykernel)",
   "language": "python",
   "name": "python3"
  },
  "language_info": {
   "codemirror_mode": {
    "name": "ipython",
    "version": 3
   },
   "file_extension": ".py",
   "mimetype": "text/x-python",
   "name": "python",
   "nbconvert_exporter": "python",
   "pygments_lexer": "ipython3",
   "version": "3.10.6"
  }
 },
 "nbformat": 4,
 "nbformat_minor": 5
}
